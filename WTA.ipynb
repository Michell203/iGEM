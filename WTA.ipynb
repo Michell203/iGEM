{
  "nbformat": 4,
  "nbformat_minor": 0,
  "metadata": {
    "colab": {
      "provenance": [],
      "authorship_tag": "ABX9TyNbqMuislLI05quqNcrCMRg",
      "include_colab_link": true
    },
    "kernelspec": {
      "name": "python3",
      "display_name": "Python 3"
    },
    "language_info": {
      "name": "python"
    }
  },
  "cells": [
    {
      "cell_type": "markdown",
      "metadata": {
        "id": "view-in-github",
        "colab_type": "text"
      },
      "source": [
        "<a href=\"https://colab.research.google.com/github/Michell203/iGEM/blob/main/WTA.ipynb\" target=\"_parent\"><img src=\"https://colab.research.google.com/assets/colab-badge.svg\" alt=\"Open In Colab\"/></a>"
      ]
    },
    {
      "cell_type": "code",
      "execution_count": 1,
      "metadata": {
        "id": "7z5ItcphCZ-q"
      },
      "outputs": [],
      "source": [
        "import numpy as np\n",
        "import pandas as pd\n",
        "import matplotlib.pyplot as plt\n",
        "import math\n",
        "import torch as t\n",
        "import torch.nn as nn\n",
        "import torch.optim as optim\n",
        "\n",
        "from skimage import data, color\n",
        "from skimage.transform import rescale, resize, downscale_local_mean\n",
        "import cv2\n",
        "\n",
        "# https://www.kaggle.com/code/faduregis/mnist-digit-classification-in-pytorch\n",
        "import torchvision.datasets as datasets\n",
        "import torchvision.transforms as transforms\n",
        "import torch.nn as nn"
      ]
    },
    {
      "cell_type": "code",
      "source": [
        "transform = transforms.Compose([transforms.ToTensor(), transforms.Normalize((0.5,), (0.5,)),])\n",
        "\n",
        "mnist_trainset = datasets.MNIST(root='./data', train=True, download=True, transform=transform)\n",
        "train_loader = t.utils.data.DataLoader(mnist_trainset, batch_size=10, shuffle=True)\n",
        "\n",
        "mnist_testset = datasets.MNIST(root='./data', train=False, download=True, transform=transform)\n",
        "test_loader = t.utils.data.DataLoader(mnist_testset, batch_size=10, shuffle=True)"
      ],
      "metadata": {
        "id": "Qq6XJV9VfBiq",
        "collapsed": true
      },
      "execution_count": null,
      "outputs": []
    },
    {
      "cell_type": "code",
      "source": [
        "transform = transforms.Compose([transforms.ToTensor(), transforms.Normalize((0.5,), (0.5,)),])"
      ],
      "metadata": {
        "id": "v75QB2j9fWQM"
      },
      "execution_count": 3,
      "outputs": []
    },
    {
      "cell_type": "markdown",
      "source": [
        "### Replicate [WTA paper](https://www.nature.com/articles/s41586-018-0289-6#Sec2)"
      ],
      "metadata": {
        "id": "avr-MLfsE3wb"
      }
    },
    {
      "cell_type": "code",
      "source": [
        "# Collect 6's and 7's to replicate WTA paper\n",
        "sixes = []\n",
        "sevens = []\n",
        "for data in mnist_trainset:\n",
        "  x = data[0]\n",
        "  y = data[1]\n",
        "\n",
        "  if y == 6:\n",
        "    sixes.append(x)\n",
        "  elif y == 7:\n",
        "    sevens.append(x)"
      ],
      "metadata": {
        "id": "g6YhpcawEGuB"
      },
      "execution_count": 4,
      "outputs": []
    },
    {
      "cell_type": "code",
      "source": [
        "plt.imshow(sixes[1].view(28, 28))\n",
        "plt.show()"
      ],
      "metadata": {
        "colab": {
          "base_uri": "https://localhost:8080/",
          "height": 430
        },
        "id": "fqAp3xERd9_x",
        "outputId": "525460e1-efb1-48df-ec46-0479f2cfe381"
      },
      "execution_count": 5,
      "outputs": [
        {
          "output_type": "display_data",
          "data": {
            "text/plain": [
              "<Figure size 640x480 with 1 Axes>"
            ],
            "image/png": "[encoded data removed]"
          },
          "metadata": {}
        }
      ]
    },
    {
      "cell_type": "code",
      "source": [
        "# Scale to 12x12 using Gaussina filter\n",
        "image_rescaled = rescale(sixes[1], 0.42, anti_aliasing=True) # 0.42 roughly takes 28 to 12\n",
        "tensor_img = t.tensor(image_rescaled)\n",
        "plt.imshow(tensor_img.view(12, 12))\n",
        "plt.show()\n",
        "\n",
        "# Set largest 20 bits to 1\n",
        "np_arr = np.array(image_rescaled)[0]\n",
        "idxs = np.argsort(np_arr.ravel())[-20:]\n",
        "rows, cols = idxs//len(np_arr), idxs%len(np_arr)\n",
        "\n",
        "np_arr = np.zeros((len(np_arr), len(np_arr)))\n",
        "np_arr[rows, cols] = 1\n",
        "tensor_img = t.tensor(np_arr)\n",
        "plt.imshow(tensor_img.view(12, 12))\n",
        "plt.show()"
      ],
      "metadata": {
        "colab": {
          "base_uri": "https://localhost:8080/",
          "height": 843
        },
        "id": "icCYf86HEtsh",
        "outputId": "5dd80dbb-1e4d-4f61-f865-4bf04beba440"
      },
      "execution_count": 6,
      "outputs": [
        {
          "output_type": "display_data",
          "data": {
            "text/plain": [
              "<Figure size 640x480 with 1 Axes>"
            ],
            "image/png": "[encoded data removed]"
          },
          "metadata": {}
        },
        {
          "output_type": "display_data",
          "data": {
            "text/plain": [
              "<Figure size 640x480 with 1 Axes>"
            ],
            "image/png": "[encoded data removed]"
          },
          "metadata": {}
        }
      ]
    },
    {
      "cell_type": "code",
      "source": [
        "def transform_image(image):\n",
        "    image_rescaled = rescale(image, 0.42, anti_aliasing=True)\n",
        "    np_arr = np.array(image_rescaled)[0]\n",
        "    idxs = np.argsort(np_arr.ravel())[-20:]\n",
        "    rows, cols = idxs//len(np_arr), idxs%len(np_arr)\n",
        "\n",
        "    np_arr = np.zeros((len(np_arr), len(np_arr)))\n",
        "    np_arr[rows, cols] = 1/20\n",
        "    return np_arr"
      ],
      "metadata": {
        "id": "tjsl3fsKaPx2"
      },
      "execution_count": 7,
      "outputs": []
    },
    {
      "cell_type": "code",
      "source": [
        "# Make weight matrices with average values of 100 examples\n",
        "def weight_matrix(example):\n",
        "  weight_matrix = np.zeros((12, 12))\n",
        "  for i in range(100):\n",
        "    transformed = transform_image(example[i])\n",
        "    weight_matrix += transformed\n",
        "\n",
        "  idxs = np.argsort(weight_matrix.ravel())[-20:]\n",
        "  rows, cols = idxs//len(weight_matrix), idxs%len(weight_matrix)\n",
        "\n",
        "  save = weight_matrix[rows, cols]\n",
        "  weight_matrix = np.zeros((len(weight_matrix), len(weight_matrix)))\n",
        "  weight_matrix[rows, cols] = save\n",
        "  return weight_matrix / np.sum(weight_matrix)"
      ],
      "metadata": {
        "id": "xBmSGheGZ3cI"
      },
      "execution_count": 8,
      "outputs": []
    },
    {
      "cell_type": "code",
      "source": [
        "weight_sixes = weight_matrix(sixes)\n",
        "weight_sevens = weight_matrix(sevens)"
      ],
      "metadata": {
        "id": "vKwfYkACaicK"
      },
      "execution_count": 9,
      "outputs": []
    },
    {
      "cell_type": "code",
      "source": [
        "# Look at example\n",
        "tensor_six_avg = t.tensor(weight_sixes)\n",
        "plt.imshow(tensor_six_avg.view(12, 12))\n",
        "plt.show()\n",
        "print(np.sum(weight_sixes))\n",
        "tensor_seven_avg = t.tensor(weight_sevens)\n",
        "plt.imshow(tensor_seven_avg.view(12, 12))\n",
        "plt.show()\n",
        "print(np.sum(weight_sevens))"
      ],
      "metadata": {
        "colab": {
          "base_uri": "https://localhost:8080/",
          "height": 879
        },
        "id": "AoPbWt4rakr3",
        "outputId": "fc713d07-6279-4c87-a451-f316d77299a8"
      },
      "execution_count": 10,
      "outputs": [
        {
          "output_type": "display_data",
          "data": {
            "text/plain": [
              "<Figure size 640x480 with 1 Axes>"
            ],
            "image/png": "[encoded data removed]"
          },
          "metadata": {}
        },
        {
          "output_type": "stream",
          "name": "stdout",
          "text": [
            "1.0\n"
          ]
        },
        {
          "output_type": "display_data",
          "data": {
            "text/plain": [
              "<Figure size 640x480 with 1 Axes>"
            ],
            "image/png": "[encoded data removed]"
          },
          "metadata": {}
        },
        {
          "output_type": "stream",
          "name": "stdout",
          "text": [
            "1.0\n"
          ]
        }
      ]
    },
    {
      "cell_type": "code",
      "source": [
        "# Basic Model\n",
        "def classify(img, weights):\n",
        "  y1 = 0\n",
        "  y2 = 0\n",
        "\n",
        "  for i in range(len(img)):\n",
        "    for j in range(len(img)):\n",
        "      y1 += img[i][j] * weights[0][i][j]\n",
        "      y2 += img[i][j] * weights[1][i][j]\n",
        "\n",
        "  if y1 > y2:\n",
        "    return 6\n",
        "  else:\n",
        "    return 7\n",
        "\n",
        "print(classify(transform_image(sixes[5]), (weight_sixes, weight_sevens)))\n",
        "print(classify(transform_image(sevens[3]), (weight_sixes, weight_sevens)))"
      ],
      "metadata": {
        "colab": {
          "base_uri": "https://localhost:8080/"
        },
        "id": "cXy8J8k1cYyI",
        "outputId": "70c269e4-1e40-4b12-9a6e-ccc0fb825375"
      },
      "execution_count": 11,
      "outputs": [
        {
          "output_type": "stream",
          "name": "stdout",
          "text": [
            "6\n",
            "7\n"
          ]
        }
      ]
    },
    {
      "cell_type": "code",
      "source": [
        "# Test Accuracy\n",
        "num_correct_sixes = 0\n",
        "num_correct_sevens = 0\n",
        "\n",
        "for i in range(5000):\n",
        "  classification_six = classify(transform_image(sixes[i]), (weight_sixes, weight_sevens))\n",
        "  classification_seven = classify(transform_image(sevens[i]), (weight_sixes, weight_sevens))\n",
        "\n",
        "  if classification_six == 6:\n",
        "    num_correct_sixes += 1\n",
        "\n",
        "  if classification_seven == 7:\n",
        "    num_correct_sevens += 1\n",
        "\n",
        "print(num_correct_sixes/5000)\n",
        "print(num_correct_sevens/5000)"
      ],
      "metadata": {
        "colab": {
          "base_uri": "https://localhost:8080/"
        },
        "collapsed": true,
        "id": "-wALrIMdV8HM",
        "outputId": "fafc8640-bb78-41cd-b86b-954d8bf0110d"
      },
      "execution_count": 12,
      "outputs": [
        {
          "output_type": "stream",
          "name": "stdout",
          "text": [
            "0.9524\n",
            "0.977\n"
          ]
        }
      ]
    },
    {
      "cell_type": "markdown",
      "source": [
        "# Model\n",
        "Generalize model"
      ],
      "metadata": {
        "id": "dQf2IDt6gQKu"
      }
    },
    {
      "cell_type": "code",
      "source": [
        "# Build model\n",
        "class GeneralWTA(nn.Module):\n",
        "    def __init__(self, input_size, mem_num, output_size):\n",
        "        super(GeneralWTA,self).__init__()\n",
        "        self.linear1 = nn.Linear(input_size, mem_num)\n",
        "        self.relu = nn.ReLU()\n",
        "        self.linear2 = nn.Linear(mem_num, output_size)\n",
        "\n",
        "    def forward(self, img):\n",
        "        x = self.relu(self.linear1(x))\n",
        "        x = self.linear2(x)\n",
        "        return x\n",
        "\n",
        "net = GeneralWTA(12*12, 2, 2)"
      ],
      "metadata": {
        "id": "tNZQ_sF6faQC",
        "collapsed": true
      },
      "execution_count": 21,
      "outputs": []
    },
    {
      "cell_type": "code",
      "source": [
        "sixes_transformed = []\n",
        "sevens_transformed = []"
      ],
      "metadata": {
        "id": "IwGcX3Bn-MXB"
      },
      "execution_count": 22,
      "outputs": []
    },
    {
      "cell_type": "code",
      "source": [
        "model = nn.Sequential(\n",
        "    nn.Linear(10*10, 2),\n",
        "    nn.ReLU(),\n",
        "    nn.Linear(2, 2)\n",
        ")"
      ],
      "metadata": {
        "id": "pdbgBhtWRJI9"
      },
      "execution_count": null,
      "outputs": []
    }
  ]
}